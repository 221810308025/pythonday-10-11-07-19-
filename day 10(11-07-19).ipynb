{
 "cells": [
  {
   "cell_type": "markdown",
   "metadata": {},
   "source": [
    "### Standard Liberary\n",
    "- file i/d\n",
    "- regular expression\n",
    "- datetime\n",
    "- math(numerical and mathematical)"
   ]
  },
  {
   "cell_type": "markdown",
   "metadata": {},
   "source": [
    " ### file handling in python\n",
    " - file-document containing information resides on the permeant storage\n",
    " - different types of file:- txt,doc,pdf,csvand etc...\n",
    " - input-keyboard\n",
    " - output-file\n",
    " "
   ]
  },
  {
   "cell_type": "markdown",
   "metadata": {},
   "source": [
    "### modes of the file i/o\n",
    "- 'w'--this mode is used to file writing\n",
    "- --if the file is not present first it creates and write some data to it\n",
    "- if the file is already present then it will rewrite the previous content"
   ]
  },
  {
   "cell_type": "code",
   "execution_count": 1,
   "metadata": {},
   "outputs": [
    {
     "name": "stdout",
     "output_type": "stream",
     "text": [
      "file is created and data has written\n"
     ]
    }
   ],
   "source": [
    "# function to create  a file and write to the file\n",
    "def createfile(filename):\n",
    "    f= open(filename,'w')\n",
    "    for i in range(10):\n",
    "        f.write('this is %d line'%i)\n",
    "    print(\"file is created and data has written\")\n",
    "    return\n",
    "createfile('file1.txt')"
   ]
  },
  {
   "cell_type": "code",
   "execution_count": 2,
   "metadata": {},
   "outputs": [
    {
     "name": "stdout",
     "output_type": "stream",
     "text": [
      " Volume in drive C has no label.\n",
      " Volume Serial Number is 3A3F-7A13\n",
      "\n",
      " Directory of C:\\Users\\exam\n",
      "\n",
      "11-07-2019  11:39    <DIR>          .\n",
      "11-07-2019  11:39    <DIR>          ..\n",
      "19-06-2019  15:23    <DIR>          .anaconda\n",
      "25-06-2019  15:55               505 .bash_history\n",
      "08-07-2019  09:18    <DIR>          .conda\n",
      "08-07-2019  09:18                43 .condarc\n",
      "29-06-2019  10:39    <DIR>          .idlerc\n",
      "11-07-2019  09:06    <DIR>          .ipynb_checkpoints\n",
      "21-06-2019  13:10    <DIR>          .ipython\n",
      "21-06-2019  14:22    <DIR>          .jupyter\n",
      "29-06-2019  09:33    <DIR>          .matplotlib\n",
      "01-03-2019  11:47    <DIR>          .oracle_jre_usage\n",
      "27-06-2019  12:07               128 charith\n",
      "27-06-2019  12:07               110 chinmay\n",
      "24-11-2016  13:50    <DIR>          Contacts\n",
      "11-07-2019  11:39            11,586 day 10(11-07-19).ipynb\n",
      "22-06-2019  15:36             9,524 day 6.ipynb\n",
      "06-07-2019  13:03            10,053 day 6-07-19 (25).ipynb\n",
      "25-06-2019  09:27            13,994 day 7.ipynb\n",
      "08-07-2019  16:04            11,420 day 8(8-07-19)25.ipynb\n",
      "09-07-2019  17:23            15,809 day 8(9-07-19)25.ipynb\n",
      "25-06-2019  15:52             7,986 day 8.ipynb\n",
      "10-07-2019  16:43            23,923 day 9 (10-07-19)25.ipynb\n",
      "26-06-2019  15:25            13,621 day 9.ipynb\n",
      "27-06-2019  15:35             8,725 day10.ipynb\n",
      "28-06-2019  15:37            12,328 day11.ipynb\n",
      "29-06-2019  14:31             5,535 day12.ipynb\n",
      "05-07-2019  10:31    <DIR>          Desktop\n",
      "11-07-2019  09:36    <DIR>          Documents\n",
      "08-07-2019  17:32    <DIR>          Downloads\n",
      "24-11-2016  13:50    <DIR>          Favorites\n",
      "11-07-2019  11:40               140 file1.txt\n",
      "11-07-2019  11:40               438 file2.txt\n",
      "11-07-2019  10:24                32 filename.txt\n",
      "24-11-2016  13:50    <DIR>          Links\n",
      "24-11-2016  13:50    <DIR>          Music\n",
      "22-06-2019  16:04               942 pf.ipynb\n",
      "24-11-2016  13:50    <DIR>          Pictures\n",
      "27-06-2019  12:07               110 rohan\n",
      "24-11-2016  13:50    <DIR>          Saved Games\n",
      "24-11-2016  13:50    <DIR>          Searches\n",
      "21-06-2019  13:10               798 Untitled.ipynb\n",
      "21-06-2019  16:00             2,429 Untitled1.ipynb\n",
      "22-06-2019  15:54               555 Untitled2.ipynb\n",
      "29-06-2019  09:33                72 Untitled3.ipynb\n",
      "24-11-2016  13:50    <DIR>          Videos\n",
      "              25 File(s)        150,806 bytes\n",
      "              21 Dir(s)  70,302,588,928 bytes free\n"
     ]
    }
   ],
   "source": [
    "ls"
   ]
  },
  {
   "cell_type": "code",
   "execution_count": 3,
   "metadata": {},
   "outputs": [
    {
     "name": "stdout",
     "output_type": "stream",
     "text": [
      "file is created and data has written\n"
     ]
    }
   ],
   "source": [
    "def createfile(filename):\n",
    "    f= open(filename,'w')\n",
    "    f.write ('testing...\\n')\n",
    "    print(\"file is created and data has written\")\n",
    "    return\n",
    "createfile('file1.txt')"
   ]
  },
  {
   "cell_type": "code",
   "execution_count": 4,
   "metadata": {},
   "outputs": [
    {
     "name": "stdout",
     "output_type": "stream",
     "text": [
      "this is 0 line \n",
      "\n",
      "this is 1 line \n",
      "\n",
      "this is 2 line \n",
      "\n",
      "this is 3 line \n",
      "\n",
      "this is 4 line \n",
      "\n",
      "this is 5 line \n",
      "\n",
      "this is 6 line \n",
      "\n",
      "this is 7 line \n",
      "\n",
      "this is 8 line \n",
      "\n",
      "this is 9 line \n",
      "\n",
      "file created and successfully data written\n"
     ]
    }
   ],
   "source": [
    "def appenddata(filename):\n",
    "    f=open(filename,'a')\n",
    "    for i in range(10):\n",
    "        print(\"this is %d line \\n\"%i)\n",
    "    print(\"file created and successfully data written\")\n",
    "    return\n",
    "appenddata('file2.txt')"
   ]
  },
  {
   "cell_type": "code",
   "execution_count": 5,
   "metadata": {},
   "outputs": [
    {
     "name": "stdout",
     "output_type": "stream",
     "text": [
      "file created and successfully data written\n"
     ]
    }
   ],
   "source": [
    "def appenddata(filename):\n",
    "    f=open(filename,'a')\n",
    "    for i in range(10):\n",
    "        f.write(\"this is %d line \\n\"%i)\n",
    "    print(\"file created and successfully data written\")\n",
    "    return\n",
    "appenddata('file2.txt')"
   ]
  },
  {
   "cell_type": "code",
   "execution_count": 6,
   "metadata": {},
   "outputs": [
    {
     "name": "stdout",
     "output_type": "stream",
     "text": [
      "file created and successfully data written\n"
     ]
    }
   ],
   "source": [
    "def appenddata(filename):\n",
    "    f=open(filename,'a')\n",
    "    f.write(\"new line 1\\n\")\n",
    "    f.write(\"new line 2\\n\")\n",
    "    print(\"file created and successfully data written\")\n",
    "    return\n",
    "appenddata('file2.txt')"
   ]
  },
  {
   "cell_type": "code",
   "execution_count": 9,
   "metadata": {},
   "outputs": [
    {
     "name": "stdout",
     "output_type": "stream",
     "text": [
      "enter the filenamedata.txt\n",
      "enter the mode of the filea\n"
     ]
    }
   ],
   "source": [
    "# function to read the file\n",
    "def fileoperations(filename,mode):\n",
    "    with open(filename,mode) as f:\n",
    "        if f.mode=='r':\n",
    "            data=f.read()\n",
    "            print(data)\n",
    "        elif f.mode=='a':\n",
    "            f.write('data to the file\\n')\n",
    "    return\n",
    "filename=input('enter the filename')\n",
    "mode=input('enter the mode of the file')\n",
    "fileoperations(filename,mode)"
   ]
  },
  {
   "cell_type": "code",
   "execution_count": 13,
   "metadata": {},
   "outputs": [
    {
     "name": "stdout",
     "output_type": "stream",
     "text": [
      "this is 0 line \n",
      "this is 1 line \n",
      "this is 2 line \n",
      "this is 3 line \n",
      "this is 4 line \n",
      "this is 5 line \n",
      "this is 6 line \n",
      "this is 7 line \n",
      "this is 8 line \n",
      "this is 9 line \n",
      "newline 1 \n",
      "newline 2 \n",
      "new line 1 \n",
      "new line 2 \n",
      "new line 1\n",
      "new line 2\n",
      "this is 0 line \n",
      "this is 1 line \n",
      "this is 2 line \n",
      "this is 3 line \n",
      "this is 4 line \n",
      "this is 5 line \n",
      "this is 6 line \n",
      "this is 7 line \n",
      "this is 8 line \n",
      "this is 9 line \n",
      "new line 1\n",
      "new line 2\n",
      "this is 0 line \n",
      "this is 1 line \n",
      "this is 2 line \n",
      "this is 3 line \n",
      "this is 4 line \n",
      "this is 5 line \n",
      "this is 6 line \n",
      "this is 7 line \n",
      "this is 8 line \n",
      "this is 9 line \n",
      "new line 1\n",
      "new line 2\n",
      "\n"
     ]
    }
   ],
   "source": [
    "# function to read of the file\n",
    "def readfiledata(filename):\n",
    "    f=open(filename,'r')\n",
    "    if f.mode =='r':\n",
    "        x=f.read()\n",
    "        print(x)\n",
    "    f.close()\n",
    "    return\n",
    "readfiledata('file2.txt')"
   ]
  },
  {
   "cell_type": "code",
   "execution_count": 10,
   "metadata": {},
   "outputs": [
    {
     "name": "stdout",
     "output_type": "stream",
     "text": [
      "enter the filenamedata.txt\n",
      "enter the mode of the filer\n",
      "data to the file\n"
     ]
    }
   ],
   "source": [
    "def fileoperations(filename,mode):\n",
    "    with open(filename,mode) as f:\n",
    "        if f.mode=='r':\n",
    "            data=f.read()\n",
    "            print(data)\n",
    "        elif f.mode=='a':\n",
    "            f.write('data to the file')\n",
    "            print('the data successfully written')\n",
    "    f.close()\n",
    "    return\n",
    "filename=input('enter the filename')\n",
    "mode=input('enter the mode of the file')\n",
    "fileoperations(filename,mode)"
   ]
  },
  {
   "cell_type": "code",
   "execution_count": 11,
   "metadata": {},
   "outputs": [
    {
     "name": "stdout",
     "output_type": "stream",
     "text": [
      "enter the filenamefile2.txt\n",
      "enter the word:this\n"
     ]
    },
    {
     "data": {
      "text/plain": [
       "30"
      ]
     },
     "execution_count": 11,
     "metadata": {},
     "output_type": "execute_result"
    }
   ],
   "source": [
    "# data analysis\n",
    "# word count program\n",
    "def wordcount(filename,word):\n",
    "    with open(filename,'r')as f:\n",
    "        if f.mode=='r':\n",
    "            x=f.read()\n",
    "            li=x.split()# it splits the string eith whitespace\n",
    "        cnt=li.count(word)\n",
    "    return cnt\n",
    "filename=input('enter the filename')\n",
    "word=input('enter the word:')# which word count you need\n",
    "wordcount(filename,word)"
   ]
  },
  {
   "cell_type": "code",
   "execution_count": 14,
   "metadata": {},
   "outputs": [
    {
     "name": "stdout",
     "output_type": "stream",
     "text": [
      "enter the filenamefile2.txt\n"
     ]
    },
    {
     "data": {
      "text/plain": [
       "592"
      ]
     },
     "execution_count": 14,
     "metadata": {},
     "output_type": "execute_result"
    }
   ],
   "source": [
    "#character count from the given file\n",
    "def count(filename):\n",
    "    with open(filename,'r')as f:\n",
    "        if f.mode=='r':\n",
    "            x=f.read()\n",
    "            li=list(x)\n",
    "    return len(li)\n",
    "filename=input('enter the filename')\n",
    "count(filename)\n"
   ]
  },
  {
   "cell_type": "code",
   "execution_count": 15,
   "metadata": {},
   "outputs": [
    {
     "name": "stdout",
     "output_type": "stream",
     "text": [
      "['python progr', 'mming']\n"
     ]
    }
   ],
   "source": [
    "s1=\"python programming\"\n",
    "print(s1.split('a'))"
   ]
  },
  {
   "cell_type": "code",
   "execution_count": 16,
   "metadata": {},
   "outputs": [
    {
     "name": "stdout",
     "output_type": "stream",
     "text": [
      "enter the filename:file2.txt\n"
     ]
    },
    {
     "data": {
      "text/plain": [
       "41"
      ]
     },
     "execution_count": 16,
     "metadata": {},
     "output_type": "execute_result"
    }
   ],
   "source": [
    "# function to find the no of lines in the input file\n",
    "# input -- filename(file.txt)\n",
    "# output -- no of lines(12)\n",
    "def file(filename):\n",
    "    with open(filename,'r')as f:\n",
    "        if f.mode=='r':\n",
    "            x=f.read()\n",
    "            li=x.split(\"\\n\")\n",
    "        return len(li)\n",
    "filename=input('enter the filename:')\n",
    "file(filename)"
   ]
  },
  {
   "cell_type": "code",
   "execution_count": 17,
   "metadata": {},
   "outputs": [
    {
     "name": "stdout",
     "output_type": "stream",
     "text": [
      "enter the filename:file2.txt\n"
     ]
    },
    {
     "data": {
      "text/plain": [
       "'upper case =0,lowercase=370'"
      ]
     },
     "execution_count": 17,
     "metadata": {},
     "output_type": "execute_result"
    }
   ],
   "source": [
    "#function to print the upper and lower characters \n",
    "def casecount(filename):\n",
    "    cntupper=0\n",
    "    cntlower=0\n",
    "    with open(filename,'r')as f:\n",
    "        if f.mode=='r':\n",
    "            x=f.read()\n",
    "            li=list(x)\n",
    "    for i in li:\n",
    "        if i.isupper():\n",
    "            cntupper+=1\n",
    "        elif i.islower():\n",
    "            cntlower+=1\n",
    "    output='upper case ={0},lowercase={1}'.format(cntupper,cntlower)\n",
    "    return output\n",
    "filename= input('enter the filename:')\n",
    "casecount(filename)"
   ]
  },
  {
   "cell_type": "markdown",
   "metadata": {},
   "source": [
    "## math , random, os\n",
    "- os package it contains the certains method which works with os\n"
   ]
  },
  {
   "cell_type": "code",
   "execution_count": 18,
   "metadata": {},
   "outputs": [
    {
     "name": "stdout",
     "output_type": "stream",
     "text": [
      " Volume in drive C has no label.\n",
      " Volume Serial Number is 3A3F-7A13\n",
      "\n",
      " Directory of C:\\Users\\exam\n",
      "\n",
      "11-07-2019  12:27    <DIR>          .\n",
      "11-07-2019  12:27    <DIR>          ..\n",
      "19-06-2019  15:23    <DIR>          .anaconda\n",
      "25-06-2019  15:55               505 .bash_history\n",
      "08-07-2019  09:18    <DIR>          .conda\n",
      "08-07-2019  09:18                43 .condarc\n",
      "29-06-2019  10:39    <DIR>          .idlerc\n",
      "11-07-2019  09:06    <DIR>          .ipynb_checkpoints\n",
      "21-06-2019  13:10    <DIR>          .ipython\n",
      "21-06-2019  14:22    <DIR>          .jupyter\n",
      "29-06-2019  09:33    <DIR>          .matplotlib\n",
      "01-03-2019  11:47    <DIR>          .oracle_jre_usage\n",
      "27-06-2019  12:07               128 charith\n",
      "27-06-2019  12:07               110 chinmay\n",
      "24-11-2016  13:50    <DIR>          Contacts\n",
      "11-07-2019  11:41                16 data.txt\n",
      "11-07-2019  12:27            14,720 day 10(11-07-19).ipynb\n",
      "22-06-2019  15:36             9,524 day 6.ipynb\n",
      "06-07-2019  13:03            10,053 day 6-07-19 (25).ipynb\n",
      "25-06-2019  09:27            13,994 day 7.ipynb\n",
      "08-07-2019  16:04            11,420 day 8(8-07-19)25.ipynb\n",
      "09-07-2019  17:23            15,809 day 8(9-07-19)25.ipynb\n",
      "25-06-2019  15:52             7,986 day 8.ipynb\n",
      "10-07-2019  16:43            23,923 day 9 (10-07-19)25.ipynb\n",
      "26-06-2019  15:25            13,621 day 9.ipynb\n",
      "27-06-2019  15:35             8,725 day10.ipynb\n",
      "28-06-2019  15:37            12,328 day11.ipynb\n",
      "29-06-2019  14:31             5,535 day12.ipynb\n",
      "05-07-2019  10:31    <DIR>          Desktop\n",
      "11-07-2019  09:36    <DIR>          Documents\n",
      "08-07-2019  17:32    <DIR>          Downloads\n",
      "24-11-2016  13:50    <DIR>          Favorites\n",
      "11-07-2019  11:40                12 file1.txt\n",
      "11-07-2019  11:40               632 file2.txt\n",
      "11-07-2019  10:24                32 filename.txt\n",
      "24-11-2016  13:50    <DIR>          Links\n",
      "24-11-2016  13:50    <DIR>          Music\n",
      "22-06-2019  16:04               942 pf.ipynb\n",
      "24-11-2016  13:50    <DIR>          Pictures\n",
      "27-06-2019  12:07               110 rohan\n",
      "24-11-2016  13:50    <DIR>          Saved Games\n",
      "24-11-2016  13:50    <DIR>          Searches\n",
      "21-06-2019  13:10               798 Untitled.ipynb\n",
      "21-06-2019  16:00             2,429 Untitled1.ipynb\n",
      "22-06-2019  15:54               555 Untitled2.ipynb\n",
      "29-06-2019  09:33                72 Untitled3.ipynb\n",
      "24-11-2016  13:50    <DIR>          Videos\n",
      "              26 File(s)        154,022 bytes\n",
      "              21 Dir(s)  70,302,789,632 bytes free\n"
     ]
    }
   ],
   "source": [
    "ls"
   ]
  },
  {
   "cell_type": "code",
   "execution_count": 19,
   "metadata": {},
   "outputs": [
    {
     "name": "stdout",
     "output_type": "stream",
     "text": [
      "[WinError 3] The system cannot find the path specified: 'desktop/pythonprog/git'\n",
      "C:\\Users\\exam\n"
     ]
    }
   ],
   "source": [
    "cd desktop/pythonprog/git"
   ]
  },
  {
   "cell_type": "code",
   "execution_count": 20,
   "metadata": {},
   "outputs": [
    {
     "name": "stdout",
     "output_type": "stream",
     "text": [
      " Volume in drive C has no label.\n",
      " Volume Serial Number is 3A3F-7A13\n",
      "\n",
      " Directory of C:\\Users\\exam\n",
      "\n",
      "11-07-2019  12:29    <DIR>          .\n",
      "11-07-2019  12:29    <DIR>          ..\n",
      "19-06-2019  15:23    <DIR>          .anaconda\n",
      "25-06-2019  15:55               505 .bash_history\n",
      "08-07-2019  09:18    <DIR>          .conda\n",
      "08-07-2019  09:18                43 .condarc\n",
      "29-06-2019  10:39    <DIR>          .idlerc\n",
      "11-07-2019  09:06    <DIR>          .ipynb_checkpoints\n",
      "21-06-2019  13:10    <DIR>          .ipython\n",
      "21-06-2019  14:22    <DIR>          .jupyter\n",
      "29-06-2019  09:33    <DIR>          .matplotlib\n",
      "01-03-2019  11:47    <DIR>          .oracle_jre_usage\n",
      "27-06-2019  12:07               128 charith\n",
      "27-06-2019  12:07               110 chinmay\n",
      "24-11-2016  13:50    <DIR>          Contacts\n",
      "11-07-2019  11:41                16 data.txt\n",
      "11-07-2019  12:29            17,971 day 10(11-07-19).ipynb\n",
      "22-06-2019  15:36             9,524 day 6.ipynb\n",
      "06-07-2019  13:03            10,053 day 6-07-19 (25).ipynb\n",
      "25-06-2019  09:27            13,994 day 7.ipynb\n",
      "08-07-2019  16:04            11,420 day 8(8-07-19)25.ipynb\n",
      "09-07-2019  17:23            15,809 day 8(9-07-19)25.ipynb\n",
      "25-06-2019  15:52             7,986 day 8.ipynb\n",
      "10-07-2019  16:43            23,923 day 9 (10-07-19)25.ipynb\n",
      "26-06-2019  15:25            13,621 day 9.ipynb\n",
      "27-06-2019  15:35             8,725 day10.ipynb\n",
      "28-06-2019  15:37            12,328 day11.ipynb\n",
      "29-06-2019  14:31             5,535 day12.ipynb\n",
      "05-07-2019  10:31    <DIR>          Desktop\n",
      "11-07-2019  09:36    <DIR>          Documents\n",
      "08-07-2019  17:32    <DIR>          Downloads\n",
      "24-11-2016  13:50    <DIR>          Favorites\n",
      "11-07-2019  11:40                12 file1.txt\n",
      "11-07-2019  11:40               632 file2.txt\n",
      "11-07-2019  10:24                32 filename.txt\n",
      "24-11-2016  13:50    <DIR>          Links\n",
      "24-11-2016  13:50    <DIR>          Music\n",
      "22-06-2019  16:04               942 pf.ipynb\n",
      "24-11-2016  13:50    <DIR>          Pictures\n",
      "27-06-2019  12:07               110 rohan\n",
      "24-11-2016  13:50    <DIR>          Saved Games\n",
      "24-11-2016  13:50    <DIR>          Searches\n",
      "21-06-2019  13:10               798 Untitled.ipynb\n",
      "21-06-2019  16:00             2,429 Untitled1.ipynb\n",
      "22-06-2019  15:54               555 Untitled2.ipynb\n",
      "29-06-2019  09:33                72 Untitled3.ipynb\n",
      "24-11-2016  13:50    <DIR>          Videos\n",
      "              26 File(s)        157,273 bytes\n",
      "              21 Dir(s)  70,302,769,152 bytes free\n"
     ]
    }
   ],
   "source": [
    "ls"
   ]
  },
  {
   "cell_type": "code",
   "execution_count": 23,
   "metadata": {},
   "outputs": [
    {
     "name": "stdout",
     "output_type": "stream",
     "text": [
      "C:\\Users\n"
     ]
    }
   ],
   "source": [
    "cd .."
   ]
  },
  {
   "cell_type": "code",
   "execution_count": 22,
   "metadata": {},
   "outputs": [
    {
     "ename": "FileNotFoundError",
     "evalue": "[WinError 3] The system cannot find the path specified: 'Git/'",
     "output_type": "error",
     "traceback": [
      "\u001b[1;31m---------------------------------------------------------------------------\u001b[0m",
      "\u001b[1;31mFileNotFoundError\u001b[0m                         Traceback (most recent call last)",
      "\u001b[1;32m<ipython-input-22-c0b7b42cf694>\u001b[0m in \u001b[0;36m<module>\u001b[1;34m\u001b[0m\n\u001b[0;32m      1\u001b[0m \u001b[1;32mimport\u001b[0m \u001b[0mos\u001b[0m\u001b[1;33m\u001b[0m\u001b[1;33m\u001b[0m\u001b[0m\n\u001b[1;32m----> 2\u001b[1;33m \u001b[0mos\u001b[0m\u001b[1;33m.\u001b[0m\u001b[0mlistdir\u001b[0m\u001b[1;33m(\u001b[0m\u001b[1;34m'Git/'\u001b[0m\u001b[1;33m)\u001b[0m\u001b[1;33m\u001b[0m\u001b[1;33m\u001b[0m\u001b[0m\n\u001b[0m",
      "\u001b[1;31mFileNotFoundError\u001b[0m: [WinError 3] The system cannot find the path specified: 'Git/'"
     ]
    }
   ],
   "source": [
    "import os\n",
    "os.listdir('Git/')"
   ]
  },
  {
   "cell_type": "code",
   "execution_count": 24,
   "metadata": {},
   "outputs": [
    {
     "ename": "FileNotFoundError",
     "evalue": "[WinError 3] The system cannot find the path specified: 'git/'",
     "output_type": "error",
     "traceback": [
      "\u001b[1;31m---------------------------------------------------------------------------\u001b[0m",
      "\u001b[1;31mFileNotFoundError\u001b[0m                         Traceback (most recent call last)",
      "\u001b[1;32m<ipython-input-24-994d4233516f>\u001b[0m in \u001b[0;36m<module>\u001b[1;34m\u001b[0m\n\u001b[1;32m----> 1\u001b[1;33m \u001b[0mli\u001b[0m\u001b[1;33m=\u001b[0m\u001b[0mos\u001b[0m\u001b[1;33m.\u001b[0m\u001b[0mlistdir\u001b[0m\u001b[1;33m(\u001b[0m\u001b[1;34m'git/'\u001b[0m\u001b[1;33m)\u001b[0m\u001b[1;33m\u001b[0m\u001b[1;33m\u001b[0m\u001b[0m\n\u001b[0m\u001b[0;32m      2\u001b[0m \u001b[1;32mfor\u001b[0m \u001b[0mi\u001b[0m \u001b[1;32min\u001b[0m \u001b[0mli\u001b[0m\u001b[1;33m:\u001b[0m\u001b[1;33m\u001b[0m\u001b[1;33m\u001b[0m\u001b[0m\n\u001b[0;32m      3\u001b[0m     \u001b[0mprint\u001b[0m\u001b[1;33m(\u001b[0m\u001b[0mi\u001b[0m\u001b[1;33m)\u001b[0m\u001b[1;33m\u001b[0m\u001b[1;33m\u001b[0m\u001b[0m\n",
      "\u001b[1;31mFileNotFoundError\u001b[0m: [WinError 3] The system cannot find the path specified: 'git/'"
     ]
    }
   ],
   "source": [
    "li=os.listdir('git/')\n",
    "for i in li:\n",
    "    print(i)"
   ]
  },
  {
   "cell_type": "markdown",
   "metadata": {},
   "source": [
    "- older verson python -- os.listdir()\n",
    "- new version python--os.scandir()and pathlib.path()"
   ]
  },
  {
   "cell_type": "markdown",
   "metadata": {},
   "source": [
    "### listing subdirections\n"
   ]
  },
  {
   "cell_type": "markdown",
   "metadata": {},
   "source": [
    "### creating a singledirectory\n"
   ]
  },
  {
   "cell_type": "code",
   "execution_count": 2,
   "metadata": {},
   "outputs": [
    {
     "ename": "FileExistsError",
     "evalue": "[WinError 183] Cannot create a file when that file already exists: 'singledirectory'",
     "output_type": "error",
     "traceback": [
      "\u001b[1;31m---------------------------------------------------------------------------\u001b[0m",
      "\u001b[1;31mFileExistsError\u001b[0m                           Traceback (most recent call last)",
      "\u001b[1;32m<ipython-input-2-6f718b8ca272>\u001b[0m in \u001b[0;36m<module>\u001b[1;34m\u001b[0m\n\u001b[0;32m      1\u001b[0m \u001b[1;32mimport\u001b[0m \u001b[0mos\u001b[0m\u001b[1;33m\u001b[0m\u001b[1;33m\u001b[0m\u001b[0m\n\u001b[1;32m----> 2\u001b[1;33m \u001b[0mos\u001b[0m\u001b[1;33m.\u001b[0m\u001b[0mmkdir\u001b[0m\u001b[1;33m(\u001b[0m\u001b[1;34m'singledirectory'\u001b[0m\u001b[1;33m)\u001b[0m\u001b[1;33m\u001b[0m\u001b[1;33m\u001b[0m\u001b[0m\n\u001b[0m",
      "\u001b[1;31mFileExistsError\u001b[0m: [WinError 183] Cannot create a file when that file already exists: 'singledirectory'"
     ]
    }
   ],
   "source": [
    "import os\n",
    "os.mkdir('singledirectory')"
   ]
  },
  {
   "cell_type": "markdown",
   "metadata": {},
   "source": [
    "### creating multiple directories"
   ]
  },
  {
   "cell_type": "markdown",
   "metadata": {},
   "source": [
    "### creating multiple directories"
   ]
  },
  {
   "cell_type": "markdown",
   "metadata": {},
   "source": [
    "### regular expressions\n",
    "- used to specific pattern matching\n",
    "- symbolic notation of pattern\n",
    "- patterns represent set of values\n"
   ]
  }
 ],
 "metadata": {
  "kernelspec": {
   "display_name": "Python 3",
   "language": "python",
   "name": "python3"
  },
  "language_info": {
   "codemirror_mode": {
    "name": "ipython",
    "version": 3
   },
   "file_extension": ".py",
   "mimetype": "text/x-python",
   "name": "python",
   "nbconvert_exporter": "python",
   "pygments_lexer": "ipython3",
   "version": "3.7.3"
  }
 },
 "nbformat": 4,
 "nbformat_minor": 2
}
